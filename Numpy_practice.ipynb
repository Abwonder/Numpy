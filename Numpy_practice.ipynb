{
 "cells": [
  {
   "cell_type": "markdown",
   "id": "8e72b91b",
   "metadata": {},
   "source": [
    "### Numpy "
   ]
  },
  {
   "cell_type": "markdown",
   "id": "723009a6",
   "metadata": {},
   "source": [
    "### Question 1\n",
    "import numpy as np\n",
    "\n",
    "list_ = [ ‘1’ , ’2’ , ‘3’ , ‘4’ , ‘5’ ]\n",
    "array_list = np.array(object = list_)\n",
    "\n",
    "Q1. Is there any difference in the data type of variables list_ and array_list? If there is then write a code\n",
    "to print the data types of both the variables.\n",
    "\n",
    "Answer: Yes, because array has numpy.ndarray while list is datatype list here is difference between the data type and the code below showed it.\n"
   ]
  },
  {
   "cell_type": "code",
   "execution_count": 40,
   "id": "05977a83",
   "metadata": {},
   "outputs": [
    {
     "name": "stdout",
     "output_type": "stream",
     "text": [
      "<class 'list'>\n",
      "<U1 <class 'numpy.ndarray'>)\n"
     ]
    }
   ],
   "source": [
    "import numpy as np\n",
    "\n",
    "list_ = ['1', '2', '3', '4', '5']  ## Added the _ to the list \n",
    "array_list = np.array(object = list_)\n",
    "print(type(list_))\n",
    "print(\"{} {})\".format(array_list.dtype, type(array_list)))"
   ]
  },
  {
   "cell_type": "markdown",
   "id": "86fa4518",
   "metadata": {},
   "source": [
    "### Question 2\n",
    "Q2. Write a code to print the data type of each and every element of both the variables list_ and\n",
    "arra_list."
   ]
  },
  {
   "cell_type": "code",
   "execution_count": 33,
   "id": "d69efdda",
   "metadata": {},
   "outputs": [
    {
     "name": "stdout",
     "output_type": "stream",
     "text": [
      "list_ each element type: ['1', '2', '3', '4', '5']\n",
      "\n",
      " 1 <class 'str'>\n",
      "\n",
      " 2 <class 'str'>\n",
      "\n",
      " 3 <class 'str'>\n",
      "\n",
      " 4 <class 'str'>\n",
      "\n",
      " 5 <class 'str'>\n",
      "\n",
      "\n",
      "\n",
      "Array_list each element type: ['1' '2' '3' '4' '5']\n",
      "\n",
      " 1 <class 'numpy.str_'>\n",
      "\n",
      " 2 <class 'numpy.str_'>\n",
      "\n",
      " 3 <class 'numpy.str_'>\n",
      "\n",
      " 4 <class 'numpy.str_'>\n",
      "\n",
      " 5 <class 'numpy.str_'>\n"
     ]
    }
   ],
   "source": [
    "print(\"list_ each element type: {}\".format(list_))\n",
    "for element in (list_):\n",
    "#     print(type(i))\n",
    "    print(f\"\\n {element} {type(element)}\")\n",
    "\n",
    "print(\"\\n\\n\")\n",
    "\n",
    "print(\"Array_list each element type: {}\".format(array_list))\n",
    "for element in array_list:\n",
    "#     ar_list_type.append(type(element))\n",
    "    print(f\"\\n {element} {type(element)}\")\n",
    "\n"
   ]
  },
  {
   "cell_type": "markdown",
   "id": "95ba1050",
   "metadata": {},
   "source": [
    "### Question 3\n",
    "Q3. Considering the following changes in the variable, array_list:\n",
    "\n",
    "array_list = np.array(object = list_, dtype = int)\n",
    "\n",
    "Will there be any difference in the data type of the elements present in both the variables, list_ and\n",
    "arra_list? If so then print the data types of each and every element present in both the variables, list_\n",
    "and arra_list.\n",
    "\n",
    "Answer: Yes"
   ]
  },
  {
   "cell_type": "code",
   "execution_count": 41,
   "id": "75b2c1f8",
   "metadata": {},
   "outputs": [
    {
     "name": "stdout",
     "output_type": "stream",
     "text": [
      "Data type of element in list_: <class 'str'>\n",
      "Data type of element in list_: <class 'str'>\n",
      "Data type of element in list_: <class 'str'>\n",
      "Data type of element in list_: <class 'str'>\n",
      "Data type of element in list_: <class 'str'>\n",
      "Data type of element in array_list: <class 'numpy.int32'>\n",
      "Data type of element in array_list: <class 'numpy.int32'>\n",
      "Data type of element in array_list: <class 'numpy.int32'>\n",
      "Data type of element in array_list: <class 'numpy.int32'>\n",
      "Data type of element in array_list: <class 'numpy.int32'>\n"
     ]
    }
   ],
   "source": [
    "import numpy as np\n",
    "\n",
    "list_ = ['1', '2', '3', '4', '5']\n",
    "array_list = np.array(object=list_, dtype=int)\n",
    "\n",
    "# Printing data type of each element in list_\n",
    "for element in list_:\n",
    "    print(\"Data type of element in list_:\", type(element))\n",
    "\n",
    "# Printing data type of each element in array_list\n",
    "for element in array_list:\n",
    "    print(\"Data type of element in array_list:\", type(element))"
   ]
  },
  {
   "cell_type": "markdown",
   "id": "e17863f3",
   "metadata": {},
   "source": [
    "Consider the below code to answer further questions:\n",
    "\n",
    "import numpy as np\n",
    "\n",
    "num_list = [ [ 1 , 2 , 3 ] , [ 4 , 5 , 6 ] ]\n",
    "\n",
    "num_array = np.array(object = num_list)\n",
    "\n",
    "### Question 4\n",
    "Q4. Write a code to find the following characteristics of variable, num_array:\n",
    "\n",
    "(i) shape\n",
    "(ii) size"
   ]
  },
  {
   "cell_type": "code",
   "execution_count": 42,
   "id": "77f08673",
   "metadata": {},
   "outputs": [
    {
     "name": "stdout",
     "output_type": "stream",
     "text": [
      "Shape of num_array: (2, 3)\n",
      "Size of num_array: 6\n"
     ]
    }
   ],
   "source": [
    "import numpy as np\n",
    "\n",
    "num_list = [[1, 2, 3], [4, 5, 6]]\n",
    "num_array = np.array(num_list)\n",
    "\n",
    "# Finding shape of num_array\n",
    "print(\"Shape of num_array:\", num_array.shape)\n",
    "\n",
    "# Finding size of num_array\n",
    "print(\"Size of num_array:\", num_array.size)"
   ]
  },
  {
   "cell_type": "markdown",
   "id": "d1f8a795",
   "metadata": {},
   "source": [
    "### Question 5\n",
    "Q5. Write a code to create numpy array of 3*3 matrix containing zeros only, using a numpy array\n",
    "creation function.\n",
    "\n",
    "[Hint: The size of the array will be 9 and the shape will be (3,3).]"
   ]
  },
  {
   "cell_type": "code",
   "execution_count": 45,
   "id": "e50df4e8",
   "metadata": {},
   "outputs": [
    {
     "name": "stdout",
     "output_type": "stream",
     "text": [
      "The size of matrix: 9\n",
      "The shape of matrix: (3, 3)\n"
     ]
    }
   ],
   "source": [
    "import numpy as np\n",
    "\n",
    "# creating the matrix\n",
    "mat_zero = np.zeros((3,3))\n",
    "\n",
    "print(\"The size of matrix: {}\".format(mat_zero.size))\n",
    "print(\"The shape of matrix: {}\".format(mat_zero.shape))"
   ]
  },
  {
   "cell_type": "markdown",
   "id": "d7250ff5",
   "metadata": {},
   "source": [
    "### Question 6\n",
    "Q6. Create an identity matrix of shape (5,5) using numpy functions?\n",
    "\n",
    "[Hint: An identity matrix is a matrix containing 1 diagonally and other elements will be 0.]"
   ]
  },
  {
   "cell_type": "code",
   "execution_count": 50,
   "id": "7ed11728",
   "metadata": {},
   "outputs": [
    {
     "name": "stdout",
     "output_type": "stream",
     "text": [
      "[[1. 0. 0. 0. 0.]\n",
      " [0. 1. 0. 0. 0.]\n",
      " [0. 0. 1. 0. 0.]\n",
      " [0. 0. 0. 1. 0.]\n",
      " [0. 0. 0. 0. 1.]]\n"
     ]
    }
   ],
   "source": [
    "## ccreating the identity matrix\n",
    "mat_idt = np.eye(5)\n",
    "print(mat_idt)"
   ]
  },
  {
   "cell_type": "markdown",
   "id": "5c6cf0c0",
   "metadata": {},
   "source": [
    "### The End"
   ]
  }
 ],
 "metadata": {
  "kernelspec": {
   "display_name": "Python 3 (ipykernel)",
   "language": "python",
   "name": "python3"
  },
  "language_info": {
   "codemirror_mode": {
    "name": "ipython",
    "version": 3
   },
   "file_extension": ".py",
   "mimetype": "text/x-python",
   "name": "python",
   "nbconvert_exporter": "python",
   "pygments_lexer": "ipython3",
   "version": "3.9.12"
  }
 },
 "nbformat": 4,
 "nbformat_minor": 5
}
